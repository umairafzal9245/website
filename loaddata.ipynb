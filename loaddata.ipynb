{
 "cells": [
  {
   "cell_type": "code",
   "execution_count": 1,
   "metadata": {},
   "outputs": [],
   "source": [
    "from pymongo import MongoClient\n",
    "\n",
    "client = MongoClient('localhost', 27017)\n",
    "db = client['UrduUsers']\n",
    "collection = db['Short Sentences']\n",
    "collection2 = db['Medium Sentences']\n",
    "collection3 = db['Long Sentences']\n",
    "collection4 = db['Words']"
   ]
  },
  {
   "cell_type": "code",
   "execution_count": 2,
   "metadata": {},
   "outputs": [],
   "source": [
    "file = open('short.txt', 'r', encoding='utf-8')\n",
    "file2 = open('medium.txt', 'r', encoding='utf-8')\n",
    "file3 = open('long.txt', 'r', encoding='utf-8')\n",
    "file4 = open('words.txt', 'r', encoding='utf-8')"
   ]
  },
  {
   "cell_type": "code",
   "execution_count": 3,
   "metadata": {},
   "outputs": [],
   "source": [
    "for item in file:\n",
    "    item = item.replace('\\n', '')\n",
    "    collection.insert_one({'sentence': item})\n",
    "\n",
    "for item in file2:\n",
    "    item = item.replace('\\n', '')\n",
    "    collection2.insert_one({'sentence': item})\n",
    "\n",
    "for item in file3:\n",
    "    item = item.replace('\\n', '')\n",
    "    collection3.insert_one({'sentence': item})\n",
    "\n",
    "for item in file4:\n",
    "    item = item.replace('\\n', '')\n",
    "    collection4.insert_one({'word': item})\n",
    "\n",
    "file.close()\n",
    "file2.close()\n",
    "file3.close()\n",
    "file4.close()"
   ]
  }
 ],
 "metadata": {
  "kernelspec": {
   "display_name": "Python 3",
   "language": "python",
   "name": "python3"
  },
  "language_info": {
   "codemirror_mode": {
    "name": "ipython",
    "version": 3
   },
   "file_extension": ".py",
   "mimetype": "text/x-python",
   "name": "python",
   "nbconvert_exporter": "python",
   "pygments_lexer": "ipython3",
   "version": "3.10.2"
  },
  "orig_nbformat": 4,
  "vscode": {
   "interpreter": {
    "hash": "26de051ba29f2982a8de78e945f0abaf191376122a1563185a90213a26c5da77"
   }
  }
 },
 "nbformat": 4,
 "nbformat_minor": 2
}
